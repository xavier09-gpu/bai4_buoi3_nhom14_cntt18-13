{
 "cells": [
  {
   "cell_type": "markdown",
   "metadata": {
    "id": "6bwOWanCzp15"
   },
   "source": [
    "a. Ví dụ minh họa"
   ]
  },
  {
   "cell_type": "code",
   "execution_count": 4,
   "metadata": {
    "colab": {
     "base_uri": "https://localhost:8080/"
    },
    "executionInfo": {
     "elapsed": 71,
     "status": "ok",
     "timestamp": 1751622447388,
     "user": {
      "displayName": "Nhan Nguyen",
      "userId": "13098471223571293492"
     },
     "user_tz": -420
    },
    "id": "MKsPiALYznmQ",
    "outputId": "9ef118a8-ae2c-412b-f57b-b0ab1a9c93b1"
   },
   "outputs": [
    {
     "name": "stdout",
     "output_type": "stream",
     "text": [
      "Các hoán vị của ['A', 'B', 'C']: ['ABC', 'ACB', 'BAC', 'BCA', 'CAB', 'CBA']\n",
      "\n",
      "--- Liệt kê hoán vị của các số 1, 2 ---\n",
      "Các hoán vị của [1, 2]: ['12', '21']\n"
     ]
    }
   ],
   "source": [
    "def liet_ke_hoan_vi(danh_sach_phan_tu):\n",
    "    \"\"\"\n",
    "    Liệt kê tất cả các hoán vị của một danh sách các phần tử bằng thuật toán quay lui.\n",
    "    \"\"\"\n",
    "    ket_qua = [] # Danh sách để lưu trữ tất cả các hoán vị tìm được\n",
    "    n = len(danh_sach_phan_tu)\n",
    "\n",
    "    # Hàm trợ giúp đệ quy (hàm con)\n",
    "    # path: hoán vị hiện tại đang được xây dựng\n",
    "    # remaining: các phần tử còn lại chưa được sử dụng\n",
    "    def backtrack(current_permutation, remaining_elements):\n",
    "        # Điều kiện dừng: nếu không còn phần tử nào, hoán vị đã hoàn thành\n",
    "        if not remaining_elements:\n",
    "            ket_qua.append(\"\".join(map(str, current_permutation))) # Thêm hoán vị vào kết quả\n",
    "            return\n",
    "\n",
    "        # Duyệt qua từng phần tử còn lại\n",
    "        for i in range(len(remaining_elements)):\n",
    "            # Chọn một phần tử\n",
    "            chon_phan_tu = remaining_elements[i]\n",
    "\n",
    "            # Đánh dấu phần tử đã chọn (thêm vào hoán vị hiện tại)\n",
    "            current_permutation.append(chon_phan_tu)\n",
    "\n",
    "            # Xây dựng danh sách các phần tử còn lại (bỏ phần tử vừa chọn)\n",
    "            new_remaining = remaining_elements[:i] + remaining_elements[i+1:]\n",
    "\n",
    "            # Gọi đệ quy cho phần còn lại\n",
    "            backtrack(current_permutation, new_remaining)\n",
    "\n",
    "            # Quay lui: bỏ phần tử đã chọn để thử lựa chọn khác\n",
    "            current_permutation.pop()\n",
    "\n",
    "    # Bắt đầu quá trình quay lui\n",
    "    backtrack([], list(danh_sach_phan_tu))\n",
    "    return ket_qua\n",
    "\n",
    "# Liệt kê hoán vị của các ký tự 'A', 'B', 'C'\n",
    "phan_tu_1 = ['A', 'B', 'C']\n",
    "hoan_vi_1 = liet_ke_hoan_vi(phan_tu_1)\n",
    "print(f\"Các hoán vị của {phan_tu_1}: {hoan_vi_1}\")\n",
    "\n",
    "print(\"\\n--- Liệt kê hoán vị của các số 1, 2 ---\")\n",
    "phan_tu_2 = [1, 2]\n",
    "hoan_vi_2 = liet_ke_hoan_vi(phan_tu_2)\n",
    "print(f\"Các hoán vị của {phan_tu_2}: {hoan_vi_2}\")\n"
   ]
  },
  {
   "cell_type": "markdown",
   "metadata": {
    "id": "vLAipAi0zyUX"
   },
   "source": [
    "b. Yêu cầu sinh viên sửa và lý giải\n",
    "\n",
    "•\tLiệt kê tất cả các hoán vị của danh sách số [1, 2, 3, 4].\n",
    "\n",
    "•\tQuan sát cách các hoán vị được tạo ra và giải thích tại sao mỗi phần tử xuất hiện ở vị trí đầu tiên đều có các hoán vị khác nhau ở phần còn lại.\n",
    "\n",
    "•\tGợi ý nâng cao: Thư viện itertools của Python có hàm permutations làm điều này rất hiệu quả. Hãy tìm hiểu và so sánh cách sử dụng.\n"
   ]
  },
  {
   "cell_type": "code",
   "execution_count": null,
   "metadata": {
    "id": "y6U7-C8zzuIc"
   },
   "outputs": [],
   "source": [
    "from itertools import permutations\n",
    "lst = [1, 2, 3, 4]\n",
    "hoan_vi = list(permutations(lst))\n",
    "for p in hoan_vi:\n",
    "    print(p)\n",
    "\n",
    "print(\"Tổng số hoán vị:\", len(hoan_vi))\n"
   ]
  }
 ],
 "metadata": {
  "colab": {
   "authorship_tag": "ABX9TyOm4YAPTHziu1nJJ70dn4oc",
   "provenance": []
  },
  "kernelspec": {
   "display_name": "Python 3",
   "name": "python3"
  },
  "language_info": {
   "name": "python"
  }
 },
 "nbformat": 4,
 "nbformat_minor": 0
}
