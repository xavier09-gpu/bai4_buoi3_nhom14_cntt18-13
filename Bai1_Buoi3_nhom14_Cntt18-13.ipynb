{
 "cells": [
  {
   "cell_type": "markdown",
   "metadata": {
    "id": "3pqXaGbHzPrs"
   },
   "source": [
    "a. Ví dụ minh họa"
   ]
  },
  {
   "cell_type": "code",
   "execution_count": 1,
   "metadata": {
    "colab": {
     "base_uri": "https://localhost:8080/"
    },
    "executionInfo": {
     "elapsed": 23,
     "status": "ok",
     "timestamp": 1751621925189,
     "user": {
      "displayName": "Nhan Nguyen",
      "userId": "13098471223571293492"
     },
     "user_tz": -420
    },
    "id": "iug0dfFxzIzl",
    "outputId": "43fd1e98-8a8a-4ab7-be5a-5a97627815de"
   },
   "outputs": [
    {
     "name": "stdout",
     "output_type": "stream",
     "text": [
      "Các số nhị phân có độ dài 2:\n",
      "00\n",
      "01\n",
      "10\n",
      "11\n",
      "\n",
      "--- Sinh các số nhị phân có độ dài 3 ---\n",
      "Các số nhị phân có độ dài 3:\n",
      "000\n",
      "001\n",
      "010\n",
      "011\n",
      "100\n",
      "101\n",
      "110\n",
      "111\n"
     ]
    }
   ],
   "source": [
    "def sinh_so_nhi_phan(n):\n",
    "    \"\"\"\n",
    "    Sinh tất cả các số nhị phân có độ dài n bằng cách duyệt từ 0 đến 2^n - 1\n",
    "    và chuyển đổi sang dạng nhị phân.\n",
    "    \"\"\"\n",
    "    if n <= 0:\n",
    "        print(\"Độ dài phải là số dương.\")\n",
    "        return\n",
    "\n",
    "    print(f\"Các số nhị phân có độ dài {n}:\")\n",
    "    # Số lượng số nhị phân có độ dài n là 2^n\n",
    "    so_luong_so = 2**n\n",
    "\n",
    "    for i in range(so_luong_so):\n",
    "        # Chuyển số thập phân i sang dạng nhị phân\n",
    "        # Sử dụng f-string với định dạng {i:0{n}b}\n",
    "        # ':b' để chuyển sang nhị phân\n",
    "        # '0{n}' để thêm số 0 vào đầu nếu cần, đảm bảo đủ n chữ số\n",
    "        dang_nhi_phan = f\"{i:0{n}b}\"\n",
    "        print(dang_nhi_phan)\n",
    "\n",
    "# Sinh các số nhị phân có độ dài 2\n",
    "sinh_so_nhi_phan(2)\n",
    "\n",
    "print(\"\\n--- Sinh các số nhị phân có độ dài 3 ---\")\n",
    "sinh_so_nhi_phan(3)\n"
   ]
  },
  {
   "cell_type": "markdown",
   "metadata": {
    "id": "ypV5kM4-zdUC"
   },
   "source": [
    "b. Yêu cầu sinh viên sửa và lý giải\n",
    "\n",
    "•\tSinh tất cả các số nhị phân có độ dài 4. Quan sát và giải thích cách chúng được tạo ra.\n",
    "\n",
    "•\tThay đổi hàm để sinh các số tam phân (chỉ gồm các chữ số 0, 1, 2) có độ dài n. (Gợi ý: Số lượng số tam phân có độ dài n là 3n. Cần viết lại logic chuyển đổi từ số nguyên sang dạng tam phân).\n"
   ]
  },
  {
   "cell_type": "code",
   "execution_count": null,
   "metadata": {
    "id": "1jsnI7-DzVAB"
   },
   "outputs": [],
   "source": [
    "def sinh_so_tam_phan(n):\n",
    "    if n <= 0:\n",
    "        print(\"Độ dài phải lớn hơn 0.\")\n",
    "        return\n",
    "\n",
    "    tong_so = 3 ** n \n",
    "\n",
    "    for i in range(tong_so):\n",
    "        tam_phan = \"\"\n",
    "        so = i\n",
    "        while so > 0:\n",
    "            tam_phan = str(so % 3) + tam_phan\n",
    "            so //= 3\n",
    "        tam_phan = tam_phan.zfill(n)\n",
    "        print(tam_phan)\n",
    "\n",
    "print(\"Các số tam phân độ dài 2:\")\n",
    "sinh_so_tam_phan(2)\n",
    "\n",
    "print(\"\\nCác số tam phân độ dài 3:\")\n",
    "sinh_so_tam_phan(3)\n"
   ]
  }
 ],
 "metadata": {
  "colab": {
   "authorship_tag": "ABX9TyNcLVBlFVLauE0YMKPkrE6D",
   "provenance": []
  },
  "kernelspec": {
   "display_name": "Python 3",
   "name": "python3"
  },
  "language_info": {
   "name": "python"
  }
 },
 "nbformat": 4,
 "nbformat_minor": 0
}
